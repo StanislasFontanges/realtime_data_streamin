{
 "cells": [
  {
   "cell_type": "markdown",
   "metadata": {},
   "source": [
    "# Importation librairies"
   ]
  },
  {
   "cell_type": "code",
   "execution_count": null,
   "metadata": {},
   "outputs": [],
   "source": [
    "import findspark\n",
    "findspark.init()\n",
    "findspark.find()\n",
    "from pyspark.sql import SparkSession\n",
    "from pyspark.sql import functions as pysqlf\n",
    "from pyspark.sql import types as pysqlt\n",
    "import requests\n",
    "import json"
   ]
  },
  {
   "cell_type": "markdown",
   "metadata": {},
   "source": [
    "# Instancier spark"
   ]
  },
  {
   "cell_type": "code",
   "execution_count": null,
   "metadata": {},
   "outputs": [],
   "source": [
    "# Instancier spark\n"
   ]
  },
  {
   "cell_type": "markdown",
   "metadata": {},
   "source": [
    "# Intérroger l'API velib pour récuper les données (pas de temps réel pour l'instant)\n"
   ]
  },
  {
   "cell_type": "code",
   "execution_count": null,
   "metadata": {},
   "outputs": [],
   "source": []
  },
  {
   "cell_type": "markdown",
   "metadata": {},
   "source": [
    "# Transformer le code ci-dessous en une fonction appélée \"get_velib_data\"pour récupérer les données"
   ]
  },
  {
   "cell_type": "code",
   "execution_count": null,
   "metadata": {},
   "outputs": [],
   "source": []
  },
  {
   "cell_type": "markdown",
   "metadata": {},
   "source": [
    "# Créer un schéma de la base de données"
   ]
  },
  {
   "cell_type": "code",
   "execution_count": null,
   "metadata": {},
   "outputs": [],
   "source": []
  },
  {
   "cell_type": "markdown",
   "metadata": {},
   "source": [
    "# Transformer les fichiers json en dataframe spark"
   ]
  },
  {
   "cell_type": "code",
   "execution_count": null,
   "metadata": {},
   "outputs": [],
   "source": []
  },
  {
   "cell_type": "markdown",
   "metadata": {},
   "source": [
    "# Afficher un aperçu des données"
   ]
  },
  {
   "cell_type": "code",
   "execution_count": null,
   "metadata": {},
   "outputs": [],
   "source": []
  },
  {
   "cell_type": "code",
   "execution_count": null,
   "metadata": {},
   "outputs": [],
   "source": []
  },
  {
   "cell_type": "markdown",
   "metadata": {},
   "source": [
    "# Supprimer les colonnes : numBikesAvailable et numDocksAvailable\n"
   ]
  },
  {
   "cell_type": "code",
   "execution_count": null,
   "metadata": {},
   "outputs": [],
   "source": []
  },
  {
   "cell_type": "markdown",
   "metadata": {},
   "source": [
    "# Renommer la colonne stationCode en station_code"
   ]
  },
  {
   "cell_type": "code",
   "execution_count": null,
   "metadata": {},
   "outputs": [],
   "source": []
  },
  {
   "cell_type": "markdown",
   "metadata": {},
   "source": [
    "# Reoganiser l'ordre des variables comme suit:\n",
    "[\n",
    "station_id\n",
    "station_code\n",
    "last_reported\n",
    "num_docks_available\n",
    "num_bikes_available\n",
    "num_bikes_available_types\n",
    "is_renting\n",
    "is_installed\n",
    "is_returning\n",
    "]"
   ]
  },
  {
   "cell_type": "code",
   "execution_count": null,
   "metadata": {},
   "outputs": [],
   "source": []
  },
  {
   "cell_type": "markdown",
   "metadata": {},
   "source": [
    "# Trier les données par station"
   ]
  },
  {
   "cell_type": "code",
   "execution_count": null,
   "metadata": {},
   "outputs": [],
   "source": []
  },
  {
   "cell_type": "markdown",
   "metadata": {},
   "source": [
    "# Selection seulement les stations qui ont num_bikes_available > 30 et un num_docks_available >20"
   ]
  },
  {
   "cell_type": "code",
   "execution_count": null,
   "metadata": {},
   "outputs": [],
   "source": []
  },
  {
   "cell_type": "markdown",
   "metadata": {},
   "source": [
    "# Créer une nouvelle variable date à partir de last_reported en date\n",
    "\n",
    "utiliser les fonctions: to_date, year, month, dayofmonth"
   ]
  },
  {
   "cell_type": "code",
   "execution_count": null,
   "metadata": {},
   "outputs": [],
   "source": []
  },
  {
   "cell_type": "markdown",
   "metadata": {},
   "source": [
    "# Créer une nouvelle variable categorie \n",
    "\n",
    "'peu' ==> num_bikes_available <10 <br>\n",
    "\"moyen\" ==>  num_bikes_available >10 et num_bikes_available <30 <br>\n",
    "\"grand\" ==>  num_bikes_available >30 et num_bikes_available <50 <br>\n",
    "\"très grand\" ==>  num_bikes_available >60 <br>\n"
   ]
  },
  {
   "cell_type": "code",
   "execution_count": null,
   "metadata": {},
   "outputs": [],
   "source": []
  },
  {
   "cell_type": "markdown",
   "metadata": {},
   "source": [
    "# Recuperer les informations sur les stations via l'API de velib"
   ]
  },
  {
   "cell_type": "code",
   "execution_count": null,
   "metadata": {},
   "outputs": [],
   "source": [
    "import requests\n",
    "import pandas as pd\n",
    "from pandas.io.json import json_normalize\n",
    "import json\n",
    "\n",
    "response = requests.get('https://velib-metropole-opendata.smoove.pro/opendata/Velib_Metropole/station_information.json')\n",
    "data = json.loads(response.text)\n",
    "stations = data[\"data\"][\"stations\"]\n",
    "stations"
   ]
  },
  {
   "cell_type": "markdown",
   "metadata": {},
   "source": [
    "# Convertir les données collectées en DataFrame spark"
   ]
  },
  {
   "cell_type": "code",
   "execution_count": null,
   "metadata": {},
   "outputs": [],
   "source": [
    "df = spark.sparkContext.parallelize(stations).map(lambda x: json.dumps(x))\n",
    "df = spark.read.json(df)"
   ]
  },
  {
   "cell_type": "markdown",
   "metadata": {},
   "source": [
    "# Faites du reverse geocoding pour transformer les variable lat et lon en informations géographiques"
   ]
  },
  {
   "cell_type": "code",
   "execution_count": null,
   "metadata": {},
   "outputs": [],
   "source": [
    "lat = 48.865982\n",
    "lon = 2.275725\n",
    "\n",
    "params = (\n",
    "            ('lon', lon),\n",
    "            ('lat', lat),\n",
    "        )\n",
    "\n",
    "response = requests.get('https://api-adresse.data.gouv.fr/reverse/', params=params)\n",
    "\n",
    "\n",
    "response = json.loads(response.text)\n",
    "response = response[\"features\"][0][\"properties\"]\n",
    "response"
   ]
  },
  {
   "cell_type": "markdown",
   "metadata": {},
   "source": [
    "# Create un fonction python de reverse geocoding et le convertir en fonction spark"
   ]
  },
  {
   "cell_type": "code",
   "execution_count": null,
   "metadata": {},
   "outputs": [],
   "source": [
    "# convertUDF = spark.udf(lambda z: convertCase(z),pysqlf.StringType())\n",
    "\n",
    "def get_geo_info(lat, lon):\n",
    "    try:\n",
    "\n",
    "        params = (\n",
    "            ('lon', lon),\n",
    "            ('lat', lat),\n",
    "        )\n",
    "\n",
    "        response = requests.get('https://api-adresse.data.gouv.fr/reverse/', params=params)\n",
    "\n",
    "\n",
    "        response = json.loads(response.text)\n",
    "        response = response[\"features\"][0][\"properties\"]\n",
    "    except:\n",
    "        return {}\n",
    "    \n",
    "    return response\n",
    "\n",
    "get_geo_info(lat, lon)\n",
    "\n"
   ]
  },
  {
   "cell_type": "markdown",
   "metadata": {},
   "source": [
    "# Récuperer toutes les variables de géocoding dans une variables"
   ]
  },
  {
   "cell_type": "code",
   "execution_count": null,
   "metadata": {},
   "outputs": [],
   "source": []
  },
  {
   "cell_type": "markdown",
   "metadata": {},
   "source": [
    "# Stocker les donnéers finaux en parquet\n",
    "\n",
    "# (Vous allez utiliser ces données dans la partie \"real time\")"
   ]
  },
  {
   "cell_type": "code",
   "execution_count": null,
   "metadata": {},
   "outputs": [],
   "source": []
  }
 ],
 "metadata": {
  "kernelspec": {
   "display_name": "Python 3 (ipykernel)",
   "language": "python",
   "name": "python3"
  }
 },
 "nbformat": 4,
 "nbformat_minor": 2
}
